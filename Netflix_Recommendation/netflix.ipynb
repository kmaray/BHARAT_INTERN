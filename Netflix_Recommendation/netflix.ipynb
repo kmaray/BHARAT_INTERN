{
 "cells": [
  {
   "cell_type": "code",
   "execution_count": 8,
   "metadata": {},
   "outputs": [
    {
     "name": "stdout",
     "output_type": "stream",
     "text": [
      "Requirement already satisfied: scikit-learn in /config/.local/lib/python3.8/site-packages (1.3.2)\n",
      "Requirement already satisfied: threadpoolctl>=2.0.0 in /config/.local/lib/python3.8/site-packages (from scikit-learn) (3.2.0)\n",
      "Requirement already satisfied: scipy>=1.5.0 in /config/.local/lib/python3.8/site-packages (from scikit-learn) (1.10.1)\n",
      "Requirement already satisfied: joblib>=1.1.1 in /config/.local/lib/python3.8/site-packages (from scikit-learn) (1.3.2)\n",
      "Requirement already satisfied: numpy<2.0,>=1.17.3 in /config/.local/lib/python3.8/site-packages (from scikit-learn) (1.24.4)\n",
      "Note: you may need to restart the kernel to use updated packages.\n"
     ]
    }
   ],
   "source": [
    "pip install scikit-learn\n"
   ]
  },
  {
   "cell_type": "code",
   "execution_count": 9,
   "metadata": {},
   "outputs": [
    {
     "name": "stdout",
     "output_type": "stream",
     "text": [
      "Requirement already satisfied: nltk in /config/.local/lib/python3.8/site-packages (3.8.1)\n",
      "Requirement already satisfied: tqdm in /config/.local/lib/python3.8/site-packages (from nltk) (4.66.1)\n",
      "Requirement already satisfied: regex>=2021.8.3 in /config/.local/lib/python3.8/site-packages (from nltk) (2023.12.25)\n",
      "Requirement already satisfied: joblib in /config/.local/lib/python3.8/site-packages (from nltk) (1.3.2)\n",
      "Requirement already satisfied: click in /config/.local/lib/python3.8/site-packages (from nltk) (8.1.7)\n",
      "Note: you may need to restart the kernel to use updated packages.\n"
     ]
    }
   ],
   "source": [
    "pip install nltk"
   ]
  },
  {
   "cell_type": "code",
   "execution_count": 10,
   "metadata": {},
   "outputs": [
    {
     "name": "stdout",
     "output_type": "stream",
     "text": [
      "Requirement already satisfied: pandas in /config/.local/lib/python3.8/site-packages (2.0.3)\n",
      "Requirement already satisfied: python-dateutil>=2.8.2 in /config/.local/lib/python3.8/site-packages (from pandas) (2.8.2)\n",
      "Requirement already satisfied: numpy>=1.20.3; python_version < \"3.10\" in /config/.local/lib/python3.8/site-packages (from pandas) (1.24.4)\n",
      "Requirement already satisfied: tzdata>=2022.1 in /config/.local/lib/python3.8/site-packages (from pandas) (2023.3)\n",
      "Requirement already satisfied: pytz>=2020.1 in /config/.local/lib/python3.8/site-packages (from pandas) (2023.3.post1)\n",
      "Requirement already satisfied: six>=1.5 in /config/.local/lib/python3.8/site-packages (from python-dateutil>=2.8.2->pandas) (1.16.0)\n",
      "Note: you may need to restart the kernel to use updated packages.\n"
     ]
    }
   ],
   "source": [
    "pip install pandas"
   ]
  },
  {
   "cell_type": "code",
   "execution_count": 11,
   "metadata": {},
   "outputs": [],
   "source": [
    "import numpy as np\n",
    "import pandas as pd\n",
    "from sklearn.feature_extraction import text\n",
    "from sklearn.metrics.pairwise import cosine_similarity"
   ]
  },
  {
   "cell_type": "code",
   "execution_count": 12,
   "metadata": {},
   "outputs": [
    {
     "name": "stdout",
     "output_type": "stream",
     "text": [
      "                                Show Id                          Title  \\\n",
      "0  cc1b6ed9-cf9e-4057-8303-34577fb54477                       (Un)Well   \n",
      "1  e2ef4e91-fb25-42ab-b485-be8e3b23dedb                         #Alive   \n",
      "2  b01b73b7-81f6-47a7-86d8-acb63080d525  #AnneFrank - Parallel Stories   \n",
      "3  b6611af0-f53c-4a08-9ffa-9716dc57eb9c                       #blackAF   \n",
      "4  7f2d4170-bab8-4d75-adc2-197f7124c070               #cats_the_mewvie   \n",
      "\n",
      "                                         Description  \\\n",
      "0  This docuseries takes a deep dive into the luc...   \n",
      "1  As a grisly virus rampages a city, a lone man ...   \n",
      "2  Through her diary, Anne Frank's story is retol...   \n",
      "3  Kenya Barris and his family navigate relations...   \n",
      "4  This pawesome documentary explores how our fel...   \n",
      "\n",
      "                      Director  \\\n",
      "0                          NaN   \n",
      "1                       Cho Il   \n",
      "2  Sabina Fedeli, Anna Migotto   \n",
      "3                          NaN   \n",
      "4             Michael Margolis   \n",
      "\n",
      "                                           Genres  \\\n",
      "0                                      Reality TV   \n",
      "1  Horror Movies, International Movies, Thrillers   \n",
      "2             Documentaries, International Movies   \n",
      "3                                     TV Comedies   \n",
      "4             Documentaries, International Movies   \n",
      "\n",
      "                                                Cast Production Country  \\\n",
      "0                                                NaN      United States   \n",
      "1                           Yoo Ah-in, Park Shin-hye        South Korea   \n",
      "2                        Helen Mirren, Gengher Gatti              Italy   \n",
      "3  Kenya Barris, Rashida Jones, Iman Benson, Genn...      United States   \n",
      "4                                                NaN             Canada   \n",
      "\n",
      "   Release Date Rating  Duration Imdb Score Content Type         Date Added  \n",
      "0        2020.0  TV-MA  1 Season     6.6/10      TV Show                NaN  \n",
      "1        2020.0  TV-MA    99 min     6.2/10        Movie  September 8, 2020  \n",
      "2        2019.0  TV-14    95 min     6.4/10        Movie       July 1, 2020  \n",
      "3        2020.0  TV-MA  1 Season     6.6/10      TV Show                NaN  \n",
      "4        2020.0  TV-14    90 min     5.1/10        Movie   February 5, 2020  \n"
     ]
    }
   ],
   "source": [
    "netflix_df = pd.read_csv(\"netflixData.csv\")\n",
    "print(netflix_df.head())"
   ]
  },
  {
   "cell_type": "code",
   "execution_count": 13,
   "metadata": {},
   "outputs": [
    {
     "name": "stdout",
     "output_type": "stream",
     "text": [
      "<class 'pandas.core.frame.DataFrame'>\n",
      "RangeIndex: 5967 entries, 0 to 5966\n",
      "Data columns (total 13 columns):\n",
      " #   Column              Non-Null Count  Dtype  \n",
      "---  ------              --------------  -----  \n",
      " 0   Show Id             5967 non-null   object \n",
      " 1   Title               5967 non-null   object \n",
      " 2   Description         5967 non-null   object \n",
      " 3   Director            3903 non-null   object \n",
      " 4   Genres              5967 non-null   object \n",
      " 5   Cast                5437 non-null   object \n",
      " 6   Production Country  5408 non-null   object \n",
      " 7   Release Date        5964 non-null   float64\n",
      " 8   Rating              5963 non-null   object \n",
      " 9   Duration            5964 non-null   object \n",
      " 10  Imdb Score          5359 non-null   object \n",
      " 11  Content Type        5967 non-null   object \n",
      " 12  Date Added          4632 non-null   object \n",
      "dtypes: float64(1), object(12)\n",
      "memory usage: 606.1+ KB\n"
     ]
    }
   ],
   "source": [
    "netflix_df.info()"
   ]
  },
  {
   "cell_type": "code",
   "execution_count": 14,
   "metadata": {},
   "outputs": [
    {
     "name": "stdout",
     "output_type": "stream",
     "text": [
      "      Show Id  Title  Description  Director  Genres   Cast  \\\n",
      "0       False  False        False      True   False   True   \n",
      "1       False  False        False     False   False  False   \n",
      "2       False  False        False     False   False  False   \n",
      "3       False  False        False      True   False  False   \n",
      "4       False  False        False     False   False   True   \n",
      "...       ...    ...          ...       ...     ...    ...   \n",
      "5962    False  False        False     False   False  False   \n",
      "5963    False  False        False      True   False  False   \n",
      "5964    False  False        False      True   False  False   \n",
      "5965    False  False        False     False   False  False   \n",
      "5966    False  False        False     False   False  False   \n",
      "\n",
      "      Production Country  Release Date  Rating  Duration  Imdb Score  \\\n",
      "0                  False         False   False     False       False   \n",
      "1                  False         False   False     False       False   \n",
      "2                  False         False   False     False       False   \n",
      "3                  False         False   False     False       False   \n",
      "4                  False         False   False     False       False   \n",
      "...                  ...           ...     ...       ...         ...   \n",
      "5962               False         False   False     False       False   \n",
      "5963                True         False   False     False        True   \n",
      "5964                True         False   False     False        True   \n",
      "5965               False         False   False     False       False   \n",
      "5966                True         False   False     False       False   \n",
      "\n",
      "      Content Type  Date Added  \n",
      "0            False        True  \n",
      "1            False       False  \n",
      "2            False       False  \n",
      "3            False        True  \n",
      "4            False       False  \n",
      "...            ...         ...  \n",
      "5962         False       False  \n",
      "5963         False        True  \n",
      "5964         False        True  \n",
      "5965         False       False  \n",
      "5966         False       False  \n",
      "\n",
      "[5967 rows x 13 columns]\n"
     ]
    }
   ],
   "source": [
    "#Check if there are null values\n",
    "print(netflix_df.isnull())"
   ]
  },
  {
   "cell_type": "code",
   "execution_count": 15,
   "metadata": {},
   "outputs": [
    {
     "name": "stdout",
     "output_type": "stream",
     "text": [
      "Show Id                  0\n",
      "Title                    0\n",
      "Description              0\n",
      "Director              2064\n",
      "Genres                   0\n",
      "Cast                   530\n",
      "Production Country     559\n",
      "Release Date             3\n",
      "Rating                   4\n",
      "Duration                 3\n",
      "Imdb Score             608\n",
      "Content Type             0\n",
      "Date Added            1335\n",
      "dtype: int64\n"
     ]
    }
   ],
   "source": [
    "#Check if there are null values\n",
    "print(netflix_df.isnull().sum())"
   ]
  },
  {
   "cell_type": "code",
   "execution_count": 16,
   "metadata": {},
   "outputs": [
    {
     "data": {
      "text/html": [
       "<div>\n",
       "<style scoped>\n",
       "    .dataframe tbody tr th:only-of-type {\n",
       "        vertical-align: middle;\n",
       "    }\n",
       "\n",
       "    .dataframe tbody tr th {\n",
       "        vertical-align: top;\n",
       "    }\n",
       "\n",
       "    .dataframe thead th {\n",
       "        text-align: right;\n",
       "    }\n",
       "</style>\n",
       "<table border=\"1\" class=\"dataframe\">\n",
       "  <thead>\n",
       "    <tr style=\"text-align: right;\">\n",
       "      <th></th>\n",
       "      <th>Title</th>\n",
       "      <th>Description</th>\n",
       "      <th>Content Type</th>\n",
       "      <th>Genres</th>\n",
       "    </tr>\n",
       "  </thead>\n",
       "  <tbody>\n",
       "    <tr>\n",
       "      <th>0</th>\n",
       "      <td>(Un)Well</td>\n",
       "      <td>This docuseries takes a deep dive into the luc...</td>\n",
       "      <td>TV Show</td>\n",
       "      <td>Reality TV</td>\n",
       "    </tr>\n",
       "    <tr>\n",
       "      <th>1</th>\n",
       "      <td>#Alive</td>\n",
       "      <td>As a grisly virus rampages a city, a lone man ...</td>\n",
       "      <td>Movie</td>\n",
       "      <td>Horror Movies, International Movies, Thrillers</td>\n",
       "    </tr>\n",
       "    <tr>\n",
       "      <th>2</th>\n",
       "      <td>#AnneFrank - Parallel Stories</td>\n",
       "      <td>Through her diary, Anne Frank's story is retol...</td>\n",
       "      <td>Movie</td>\n",
       "      <td>Documentaries, International Movies</td>\n",
       "    </tr>\n",
       "    <tr>\n",
       "      <th>3</th>\n",
       "      <td>#blackAF</td>\n",
       "      <td>Kenya Barris and his family navigate relations...</td>\n",
       "      <td>TV Show</td>\n",
       "      <td>TV Comedies</td>\n",
       "    </tr>\n",
       "    <tr>\n",
       "      <th>4</th>\n",
       "      <td>#cats_the_mewvie</td>\n",
       "      <td>This pawesome documentary explores how our fel...</td>\n",
       "      <td>Movie</td>\n",
       "      <td>Documentaries, International Movies</td>\n",
       "    </tr>\n",
       "  </tbody>\n",
       "</table>\n",
       "</div>"
      ],
      "text/plain": [
       "                           Title  \\\n",
       "0                       (Un)Well   \n",
       "1                         #Alive   \n",
       "2  #AnneFrank - Parallel Stories   \n",
       "3                       #blackAF   \n",
       "4               #cats_the_mewvie   \n",
       "\n",
       "                                         Description Content Type  \\\n",
       "0  This docuseries takes a deep dive into the luc...      TV Show   \n",
       "1  As a grisly virus rampages a city, a lone man ...        Movie   \n",
       "2  Through her diary, Anne Frank's story is retol...        Movie   \n",
       "3  Kenya Barris and his family navigate relations...      TV Show   \n",
       "4  This pawesome documentary explores how our fel...        Movie   \n",
       "\n",
       "                                           Genres  \n",
       "0                                      Reality TV  \n",
       "1  Horror Movies, International Movies, Thrillers  \n",
       "2             Documentaries, International Movies  \n",
       "3                                     TV Comedies  \n",
       "4             Documentaries, International Movies  "
      ]
     },
     "execution_count": 16,
     "metadata": {},
     "output_type": "execute_result"
    }
   ],
   "source": [
    "required_nf_df = netflix_df[[\"Title\", \"Description\", \"Content Type\", \"Genres\"  ]]\n",
    "required_nf_df.head()"
   ]
  },
  {
   "cell_type": "code",
   "execution_count": 17,
   "metadata": {},
   "outputs": [
    {
     "data": {
      "text/plain": [
       "Title           5967\n",
       "Description     5967\n",
       "Content Type    5967\n",
       "Genres          5967\n",
       "dtype: int64"
      ]
     },
     "execution_count": 17,
     "metadata": {},
     "output_type": "execute_result"
    }
   ],
   "source": [
    "required_nf_df.count()"
   ]
  },
  {
   "cell_type": "code",
   "execution_count": 18,
   "metadata": {},
   "outputs": [
    {
     "data": {
      "text/html": [
       "<div>\n",
       "<style scoped>\n",
       "    .dataframe tbody tr th:only-of-type {\n",
       "        vertical-align: middle;\n",
       "    }\n",
       "\n",
       "    .dataframe tbody tr th {\n",
       "        vertical-align: top;\n",
       "    }\n",
       "\n",
       "    .dataframe thead th {\n",
       "        text-align: right;\n",
       "    }\n",
       "</style>\n",
       "<table border=\"1\" class=\"dataframe\">\n",
       "  <thead>\n",
       "    <tr style=\"text-align: right;\">\n",
       "      <th></th>\n",
       "      <th>Title</th>\n",
       "      <th>Description</th>\n",
       "      <th>Content Type</th>\n",
       "      <th>Genres</th>\n",
       "    </tr>\n",
       "  </thead>\n",
       "  <tbody>\n",
       "    <tr>\n",
       "      <th>0</th>\n",
       "      <td>(Un)Well</td>\n",
       "      <td>This docuseries takes a deep dive into the luc...</td>\n",
       "      <td>TV Show</td>\n",
       "      <td>Reality TV</td>\n",
       "    </tr>\n",
       "    <tr>\n",
       "      <th>1</th>\n",
       "      <td>#Alive</td>\n",
       "      <td>As a grisly virus rampages a city, a lone man ...</td>\n",
       "      <td>Movie</td>\n",
       "      <td>Horror Movies, International Movies, Thrillers</td>\n",
       "    </tr>\n",
       "    <tr>\n",
       "      <th>2</th>\n",
       "      <td>#AnneFrank - Parallel Stories</td>\n",
       "      <td>Through her diary, Anne Frank's story is retol...</td>\n",
       "      <td>Movie</td>\n",
       "      <td>Documentaries, International Movies</td>\n",
       "    </tr>\n",
       "    <tr>\n",
       "      <th>3</th>\n",
       "      <td>#blackAF</td>\n",
       "      <td>Kenya Barris and his family navigate relations...</td>\n",
       "      <td>TV Show</td>\n",
       "      <td>TV Comedies</td>\n",
       "    </tr>\n",
       "    <tr>\n",
       "      <th>4</th>\n",
       "      <td>#cats_the_mewvie</td>\n",
       "      <td>This pawesome documentary explores how our fel...</td>\n",
       "      <td>Movie</td>\n",
       "      <td>Documentaries, International Movies</td>\n",
       "    </tr>\n",
       "    <tr>\n",
       "      <th>...</th>\n",
       "      <td>...</td>\n",
       "      <td>...</td>\n",
       "      <td>...</td>\n",
       "      <td>...</td>\n",
       "    </tr>\n",
       "    <tr>\n",
       "      <th>5962</th>\n",
       "      <td>الف مبروك</td>\n",
       "      <td>On his wedding day, an arrogant, greedy accoun...</td>\n",
       "      <td>Movie</td>\n",
       "      <td>Comedies, Dramas, International Movies</td>\n",
       "    </tr>\n",
       "    <tr>\n",
       "      <th>5963</th>\n",
       "      <td>دفعة القاهرة</td>\n",
       "      <td>A group of women leaves Kuwait to attend unive...</td>\n",
       "      <td>TV Show</td>\n",
       "      <td>International TV Shows, TV Dramas</td>\n",
       "    </tr>\n",
       "    <tr>\n",
       "      <th>5964</th>\n",
       "      <td>海的儿子</td>\n",
       "      <td>Two brothers start a new life in Singapore, wh...</td>\n",
       "      <td>TV Show</td>\n",
       "      <td>International TV Shows, TV Dramas</td>\n",
       "    </tr>\n",
       "    <tr>\n",
       "      <th>5965</th>\n",
       "      <td>반드시 잡는다</td>\n",
       "      <td>After people in his town start turning up dead...</td>\n",
       "      <td>Movie</td>\n",
       "      <td>Dramas, International Movies, Thrillers</td>\n",
       "    </tr>\n",
       "    <tr>\n",
       "      <th>5966</th>\n",
       "      <td>최강전사 미니특공대 : 영웅의 탄생</td>\n",
       "      <td>Miniforce, a special task force of elite range...</td>\n",
       "      <td>Movie</td>\n",
       "      <td>Children &amp; Family Movies</td>\n",
       "    </tr>\n",
       "  </tbody>\n",
       "</table>\n",
       "<p>5967 rows × 4 columns</p>\n",
       "</div>"
      ],
      "text/plain": [
       "                              Title  \\\n",
       "0                          (Un)Well   \n",
       "1                            #Alive   \n",
       "2     #AnneFrank - Parallel Stories   \n",
       "3                          #blackAF   \n",
       "4                  #cats_the_mewvie   \n",
       "...                             ...   \n",
       "5962                      الف مبروك   \n",
       "5963                   دفعة القاهرة   \n",
       "5964                           海的儿子   \n",
       "5965                        반드시 잡는다   \n",
       "5966            최강전사 미니특공대 : 영웅의 탄생   \n",
       "\n",
       "                                            Description Content Type  \\\n",
       "0     This docuseries takes a deep dive into the luc...      TV Show   \n",
       "1     As a grisly virus rampages a city, a lone man ...        Movie   \n",
       "2     Through her diary, Anne Frank's story is retol...        Movie   \n",
       "3     Kenya Barris and his family navigate relations...      TV Show   \n",
       "4     This pawesome documentary explores how our fel...        Movie   \n",
       "...                                                 ...          ...   \n",
       "5962  On his wedding day, an arrogant, greedy accoun...        Movie   \n",
       "5963  A group of women leaves Kuwait to attend unive...      TV Show   \n",
       "5964  Two brothers start a new life in Singapore, wh...      TV Show   \n",
       "5965  After people in his town start turning up dead...        Movie   \n",
       "5966  Miniforce, a special task force of elite range...        Movie   \n",
       "\n",
       "                                              Genres  \n",
       "0                                         Reality TV  \n",
       "1     Horror Movies, International Movies, Thrillers  \n",
       "2                Documentaries, International Movies  \n",
       "3                                        TV Comedies  \n",
       "4                Documentaries, International Movies  \n",
       "...                                              ...  \n",
       "5962          Comedies, Dramas, International Movies  \n",
       "5963               International TV Shows, TV Dramas  \n",
       "5964               International TV Shows, TV Dramas  \n",
       "5965         Dramas, International Movies, Thrillers  \n",
       "5966                        Children & Family Movies  \n",
       "\n",
       "[5967 rows x 4 columns]"
      ]
     },
     "execution_count": 18,
     "metadata": {},
     "output_type": "execute_result"
    }
   ],
   "source": [
    "# Data cleaning, let's drop the rows containing the null values\n",
    "required_nf_df.dropna()"
   ]
  },
  {
   "cell_type": "code",
   "execution_count": 19,
   "metadata": {},
   "outputs": [
    {
     "data": {
      "text/plain": [
       "Title           5967\n",
       "Description     5967\n",
       "Content Type    5967\n",
       "Genres          5967\n",
       "dtype: int64"
      ]
     },
     "execution_count": 19,
     "metadata": {},
     "output_type": "execute_result"
    }
   ],
   "source": [
    "required_nf_df.count()"
   ]
  },
  {
   "cell_type": "code",
   "execution_count": 20,
   "metadata": {},
   "outputs": [],
   "source": [
    "#Cleaning the title column\n",
    "import nltk\n",
    "import re"
   ]
  },
  {
   "cell_type": "code",
   "execution_count": 21,
   "metadata": {},
   "outputs": [
    {
     "name": "stderr",
     "output_type": "stream",
     "text": [
      "[nltk_data] Downloading package stopwords to /config/nltk_data...\n",
      "[nltk_data]   Unzipping corpora/stopwords.zip.\n"
     ]
    }
   ],
   "source": [
    "nltk.download('stopwords')\n",
    "stemmer = nltk.SnowballStemmer(\"english\")\n",
    "from nltk.corpus import stopwords\n",
    "import string\n",
    "stopword=set(stopwords.words('english'))\n"
   ]
  },
  {
   "cell_type": "code",
   "execution_count": 22,
   "metadata": {},
   "outputs": [],
   "source": [
    "def clean(text):\n",
    "    text = str(text).lower()\n",
    "    text = re.sub('\\[.*?\\]', '', text)\n",
    "    text = re.sub('https?://\\S+|www\\.\\S+', '', text)\n",
    "    text = re.sub('<.*?>+', '', text)\n",
    "    text = re.sub('[%s]' % re.escape(string.punctuation), '', text)\n",
    "    text = re.sub('\\n', '', text)\n",
    "    text = re.sub('\\w*\\d\\w*', '', text)\n",
    "    text = [word for word in text.split(' ') if word not in stopword]\n",
    "    text=\" \".join(text)\n",
    "    text = [stemmer.stem(word) for word in text.split(' ')]\n",
    "    text=\" \".join(text)\n",
    "    return text"
   ]
  },
  {
   "cell_type": "code",
   "execution_count": 23,
   "metadata": {},
   "outputs": [
    {
     "name": "stderr",
     "output_type": "stream",
     "text": [
      "/tmp/ipykernel_561/486417275.py:1: SettingWithCopyWarning: \n",
      "A value is trying to be set on a copy of a slice from a DataFrame.\n",
      "Try using .loc[row_indexer,col_indexer] = value instead\n",
      "\n",
      "See the caveats in the documentation: https://pandas.pydata.org/pandas-docs/stable/user_guide/indexing.html#returning-a-view-versus-a-copy\n",
      "  required_nf_df[\"Title\"] = required_nf_df[\"Title\"].apply(clean)\n"
     ]
    }
   ],
   "source": [
    "required_nf_df[\"Title\"] = required_nf_df[\"Title\"].apply(clean)"
   ]
  },
  {
   "cell_type": "code",
   "execution_count": 24,
   "metadata": {},
   "outputs": [
    {
     "name": "stdout",
     "output_type": "stream",
     "text": [
      "0                           unwel\n",
      "1                            aliv\n",
      "2       annefrank  parallel stori\n",
      "3                         blackaf\n",
      "4                    catsthemewvi\n",
      "                  ...            \n",
      "5962                    الف مبروك\n",
      "5963                 دفعة القاهرة\n",
      "5964                         海的儿子\n",
      "5965                      반드시 잡는다\n",
      "5966           최강전사 미니특공대  영웅의 탄생\n",
      "Name: Title, Length: 5967, dtype: object\n"
     ]
    }
   ],
   "source": [
    "print(required_nf_df[\"Title\"])"
   ]
  },
  {
   "cell_type": "code",
   "execution_count": 25,
   "metadata": {},
   "outputs": [
    {
     "name": "stdout",
     "output_type": "stream",
     "text": [
      "2816                        love stori\n",
      "1173    danc dream hot chocol nutcrack\n",
      "2726                         limitless\n",
      "4143                          see time\n",
      "3765                      princ peoria\n",
      "4451             strongest deliveryman\n",
      "2619               lago real fake life\n",
      "3572                            planet\n",
      "1029                           clannad\n",
      "5542               turn washington spi\n",
      "Name: Title, dtype: object\n"
     ]
    }
   ],
   "source": [
    "print(required_nf_df.Title.sample(10))"
   ]
  },
  {
   "cell_type": "code",
   "execution_count": 26,
   "metadata": {},
   "outputs": [],
   "source": [
    "genreList = required_nf_df[\"Genres\"].tolist()\n",
    "#tfidf = text.TfidfVectorizer(input=genreList, stop_words=\"english\")\n",
    "tfidf = text.TfidfVectorizer(stop_words=\"english\")\n",
    "tfidf_matrix = tfidf.fit_transform(genreList)\n",
    "similarity = cosine_similarity(tfidf_matrix)"
   ]
  },
  {
   "cell_type": "code",
   "execution_count": 27,
   "metadata": {},
   "outputs": [],
   "source": [
    "indices = pd.Series(required_nf_df.index, index=required_nf_df['Title']).drop_duplicates()"
   ]
  },
  {
   "cell_type": "code",
   "execution_count": 28,
   "metadata": {},
   "outputs": [],
   "source": [
    "def netFlix_recommendation(title, similarity = similarity):\n",
    "    index = indices[title]\n",
    "    similarity_scores = list(enumerate(similarity[index]))\n",
    "    similarity_scores = sorted(similarity_scores, key=lambda x: x[1], reverse=True)\n",
    "    similarity_scores = similarity_scores[0:10]\n",
    "    movieindices = [i[0] for i in similarity_scores]\n",
    "    return required_nf_df['Title'].iloc[movieindices]"
   ]
  },
  {
   "cell_type": "code",
   "execution_count": 33,
   "metadata": {},
   "outputs": [
    {
     "name": "stdout",
     "output_type": "stream",
     "text": [
      "5       friendbutmarri\n",
      "6      friendbutmarri \n",
      "33           week lago\n",
      "50                 day\n",
      "88         beauti life\n",
      "127         love stori\n",
      "143       second chanc\n",
      "267          ali  alia\n",
      "284               love\n",
      "306        alonetogeth\n",
      "Name: Title, dtype: object\n"
     ]
    }
   ],
   "source": [
    "print(netFlix_recommendation(\"fitoor\"))"
   ]
  }
 ],
 "metadata": {
  "kernelspec": {
   "display_name": "Python 3.8.10 64-bit",
   "language": "python",
   "name": "python3"
  },
  "language_info": {
   "codemirror_mode": {
    "name": "ipython",
    "version": 3
   },
   "file_extension": ".py",
   "mimetype": "text/x-python",
   "name": "python",
   "nbconvert_exporter": "python",
   "pygments_lexer": "ipython3",
   "version": "3.11.2"
  },
  "orig_nbformat": 4,
  "vscode": {
   "interpreter": {
    "hash": "e7370f93d1d0cde622a1f8e1c04877d8463912d04d973331ad4851f04de6915a"
   }
  }
 },
 "nbformat": 4,
 "nbformat_minor": 2
}
